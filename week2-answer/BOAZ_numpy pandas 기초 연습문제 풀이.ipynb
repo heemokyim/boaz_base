{
  "nbformat": 4,
  "nbformat_minor": 0,
  "metadata": {
    "colab": {
      "name": "BOAZ 넘파이 판다스 연습문제 풀이.ipynb",
      "version": "0.3.2",
      "views": {},
      "default_view": {},
      "provenance": [
        {
          "file_id": "17snXuQ7OJekTXu4qbmnAFdrU-aUgLMer",
          "timestamp": 1531919680673
        },
        {
          "file_id": "1fDLppgTpL2R5lK2fHFB27aXY2AaQWwYx",
          "timestamp": 1524385770083
        }
      ],
      "collapsed_sections": []
    },
    "kernelspec": {
      "display_name": "Python [default]",
      "language": "python",
      "name": "python3"
    }
  },
  "cells": [
    {
      "metadata": {
        "id": "hRcFsIfjmLDZ",
        "colab_type": "text"
      },
      "cell_type": "markdown",
      "source": [
        "## Import libraries"
      ]
    },
    {
      "metadata": {
        "id": "2YycK0gCTI34",
        "colab_type": "code",
        "colab": {
          "autoexec": {
            "startup": false,
            "wait_interval": 0
          }
        }
      },
      "cell_type": "code",
      "source": [
        "from pandas import Series, DataFrame\n",
        "import pandas as pd\n",
        "import numpy as np"
      ],
      "execution_count": 0,
      "outputs": []
    },
    {
      "metadata": {
        "id": "Jp84rhv6TI31",
        "colab_type": "text"
      },
      "cell_type": "markdown",
      "source": [
        "## 문제 1. DataFrame 다루기 \n"
      ]
    },
    {
      "metadata": {
        "id": "aFW538dqTI33",
        "colab_type": "text"
      },
      "cell_type": "markdown",
      "source": [
        "### a) DataFrame으로 위와 같은 자료를 만드시오. 컬럼 이름은 numbers, 로우 네임은 a~d, 값은 10~40\n",
        "\n",
        "   | numbers |\n",
        "----- | ------ \n",
        "a  | 10 \n",
        "b  | 20 \n",
        "c  | 30 \n",
        "d  | 40 "
      ]
    },
    {
      "metadata": {
        "id": "bDjop_E8lzuK",
        "colab_type": "code",
        "colab": {
          "autoexec": {
            "startup": false,
            "wait_interval": 0
          },
          "base_uri": "https://localhost:8080/",
          "height": 166
        },
        "cellView": "code",
        "outputId": "1c35d447-c7a4-4471-a7a7-6a3056ea2b3a",
        "executionInfo": {
          "status": "ok",
          "timestamp": 1531920246099,
          "user_tz": -540,
          "elapsed": 840,
          "user": {
            "displayName": "Gang min Kim",
            "photoUrl": "https://lh3.googleusercontent.com/a/default-user=s128",
            "userId": "117554242501406132618"
          }
        }
      },
      "cell_type": "code",
      "source": [
        "df = DataFrame([10,20,30,40], index = ['a','b','c','d'], columns = ['numbers'])\n",
        "df"
      ],
      "execution_count": 2,
      "outputs": [
        {
          "output_type": "execute_result",
          "data": {
            "text/html": [
              "<div>\n",
              "<style scoped>\n",
              "    .dataframe tbody tr th:only-of-type {\n",
              "        vertical-align: middle;\n",
              "    }\n",
              "\n",
              "    .dataframe tbody tr th {\n",
              "        vertical-align: top;\n",
              "    }\n",
              "\n",
              "    .dataframe thead th {\n",
              "        text-align: right;\n",
              "    }\n",
              "</style>\n",
              "<table border=\"1\" class=\"dataframe\">\n",
              "  <thead>\n",
              "    <tr style=\"text-align: right;\">\n",
              "      <th></th>\n",
              "      <th>numbers</th>\n",
              "    </tr>\n",
              "  </thead>\n",
              "  <tbody>\n",
              "    <tr>\n",
              "      <th>a</th>\n",
              "      <td>10</td>\n",
              "    </tr>\n",
              "    <tr>\n",
              "      <th>b</th>\n",
              "      <td>20</td>\n",
              "    </tr>\n",
              "    <tr>\n",
              "      <th>c</th>\n",
              "      <td>30</td>\n",
              "    </tr>\n",
              "    <tr>\n",
              "      <th>d</th>\n",
              "      <td>40</td>\n",
              "    </tr>\n",
              "  </tbody>\n",
              "</table>\n",
              "</div>"
            ],
            "text/plain": [
              "   numbers\n",
              "a       10\n",
              "b       20\n",
              "c       30\n",
              "d       40"
            ]
          },
          "metadata": {
            "tags": []
          },
          "execution_count": 2
        }
      ]
    },
    {
      "metadata": {
        "id": "Od3B4RysTI38",
        "colab_type": "text"
      },
      "cell_type": "markdown",
      "source": [
        "### b) c 로우의 값을 가져오시오."
      ]
    },
    {
      "metadata": {
        "id": "Btu9iS3CTI38",
        "colab_type": "code",
        "colab": {
          "autoexec": {
            "startup": false,
            "wait_interval": 0
          },
          "base_uri": "https://localhost:8080/",
          "height": 52
        },
        "outputId": "647908c3-5b34-4793-ccbd-1b964fdfcbc9",
        "executionInfo": {
          "status": "ok",
          "timestamp": 1531920248664,
          "user_tz": -540,
          "elapsed": 815,
          "user": {
            "displayName": "Gang min Kim",
            "photoUrl": "https://lh3.googleusercontent.com/a/default-user=s128",
            "userId": "117554242501406132618"
          }
        }
      },
      "cell_type": "code",
      "source": [
        "df.loc['c']\n",
        "\n",
        "# 값만 가져오고 싶으면 뒤에 values를 붙이면 됩니다\n",
        "# df.loc['c'].values"
      ],
      "execution_count": 3,
      "outputs": [
        {
          "output_type": "execute_result",
          "data": {
            "text/plain": [
              "numbers    30\n",
              "Name: c, dtype: int64"
            ]
          },
          "metadata": {
            "tags": []
          },
          "execution_count": 3
        }
      ]
    },
    {
      "metadata": {
        "id": "eYnGTCxBTI3_",
        "colab_type": "text"
      },
      "cell_type": "markdown",
      "source": [
        "### c) a, d 로우들의 값을 가져오시오."
      ]
    },
    {
      "metadata": {
        "id": "hgwi5z3ATI3_",
        "colab_type": "code",
        "colab": {
          "autoexec": {
            "startup": false,
            "wait_interval": 0
          },
          "base_uri": "https://localhost:8080/",
          "height": 106
        },
        "outputId": "99e408b2-8d9b-4c78-eeae-5ddc77b57baf",
        "executionInfo": {
          "status": "ok",
          "timestamp": 1531920271327,
          "user_tz": -540,
          "elapsed": 805,
          "user": {
            "displayName": "Gang min Kim",
            "photoUrl": "https://lh3.googleusercontent.com/a/default-user=s128",
            "userId": "117554242501406132618"
          }
        }
      },
      "cell_type": "code",
      "source": [
        "df.loc[['a','d']]"
      ],
      "execution_count": 6,
      "outputs": [
        {
          "output_type": "execute_result",
          "data": {
            "text/html": [
              "<div>\n",
              "<style scoped>\n",
              "    .dataframe tbody tr th:only-of-type {\n",
              "        vertical-align: middle;\n",
              "    }\n",
              "\n",
              "    .dataframe tbody tr th {\n",
              "        vertical-align: top;\n",
              "    }\n",
              "\n",
              "    .dataframe thead th {\n",
              "        text-align: right;\n",
              "    }\n",
              "</style>\n",
              "<table border=\"1\" class=\"dataframe\">\n",
              "  <thead>\n",
              "    <tr style=\"text-align: right;\">\n",
              "      <th></th>\n",
              "      <th>numbers</th>\n",
              "    </tr>\n",
              "  </thead>\n",
              "  <tbody>\n",
              "    <tr>\n",
              "      <th>a</th>\n",
              "      <td>10</td>\n",
              "    </tr>\n",
              "    <tr>\n",
              "      <th>d</th>\n",
              "      <td>40</td>\n",
              "    </tr>\n",
              "  </tbody>\n",
              "</table>\n",
              "</div>"
            ],
            "text/plain": [
              "   numbers\n",
              "a       10\n",
              "d       40"
            ]
          },
          "metadata": {
            "tags": []
          },
          "execution_count": 6
        }
      ]
    },
    {
      "metadata": {
        "id": "sGuIbhKJTI4C",
        "colab_type": "text"
      },
      "cell_type": "markdown",
      "source": [
        "### d) numbers의 합을 구하시오."
      ]
    },
    {
      "metadata": {
        "id": "Vk4BFNYwTI4C",
        "colab_type": "code",
        "colab": {
          "autoexec": {
            "startup": false,
            "wait_interval": 0
          },
          "base_uri": "https://localhost:8080/",
          "height": 52
        },
        "outputId": "81be81e5-5146-4915-a736-ccadaacdf383",
        "executionInfo": {
          "status": "ok",
          "timestamp": 1531919606817,
          "user_tz": -540,
          "elapsed": 815,
          "user": {
            "displayName": "Gang min Kim",
            "photoUrl": "https://lh3.googleusercontent.com/a/default-user=s128",
            "userId": "117554242501406132618"
          }
        }
      },
      "cell_type": "code",
      "source": [
        "df.sum()"
      ],
      "execution_count": 0,
      "outputs": [
        {
          "output_type": "execute_result",
          "data": {
            "text/plain": [
              "numbers    100\n",
              "dtype: int64"
            ]
          },
          "metadata": {
            "tags": []
          },
          "execution_count": 6
        }
      ]
    },
    {
      "metadata": {
        "id": "IwISDfsWTI4E",
        "colab_type": "text"
      },
      "cell_type": "markdown",
      "source": [
        "### e) numbers의 값들을 각각 제곱하시오<br>아래와 같은결과가 나와야 함\n",
        "<br>\n",
        "\n",
        "  | numbers |\n",
        "----- | ------ \n",
        "a  | 100 \n",
        "b  | 400 \n",
        "c  | 900 \n",
        "d  | 1600 "
      ]
    },
    {
      "metadata": {
        "id": "o2niYWPMTI4G",
        "colab_type": "code",
        "colab": {
          "autoexec": {
            "startup": false,
            "wait_interval": 0
          },
          "base_uri": "https://localhost:8080/",
          "height": 166
        },
        "outputId": "6d3f1152-bdd3-4c7e-b0a8-210687c8af60",
        "executionInfo": {
          "status": "ok",
          "timestamp": 1531920285733,
          "user_tz": -540,
          "elapsed": 821,
          "user": {
            "displayName": "Gang min Kim",
            "photoUrl": "https://lh3.googleusercontent.com/a/default-user=s128",
            "userId": "117554242501406132618"
          }
        }
      },
      "cell_type": "code",
      "source": [
        "df = DataFrame([10,20,30,40], index = ['a','b','c','d'], columns = ['numbers'])\n",
        "df['numbers'] = df['numbers'] ** 2\n",
        "df"
      ],
      "execution_count": 7,
      "outputs": [
        {
          "output_type": "execute_result",
          "data": {
            "text/html": [
              "<div>\n",
              "<style scoped>\n",
              "    .dataframe tbody tr th:only-of-type {\n",
              "        vertical-align: middle;\n",
              "    }\n",
              "\n",
              "    .dataframe tbody tr th {\n",
              "        vertical-align: top;\n",
              "    }\n",
              "\n",
              "    .dataframe thead th {\n",
              "        text-align: right;\n",
              "    }\n",
              "</style>\n",
              "<table border=\"1\" class=\"dataframe\">\n",
              "  <thead>\n",
              "    <tr style=\"text-align: right;\">\n",
              "      <th></th>\n",
              "      <th>numbers</th>\n",
              "    </tr>\n",
              "  </thead>\n",
              "  <tbody>\n",
              "    <tr>\n",
              "      <th>a</th>\n",
              "      <td>100</td>\n",
              "    </tr>\n",
              "    <tr>\n",
              "      <th>b</th>\n",
              "      <td>400</td>\n",
              "    </tr>\n",
              "    <tr>\n",
              "      <th>c</th>\n",
              "      <td>900</td>\n",
              "    </tr>\n",
              "    <tr>\n",
              "      <th>d</th>\n",
              "      <td>1600</td>\n",
              "    </tr>\n",
              "  </tbody>\n",
              "</table>\n",
              "</div>"
            ],
            "text/plain": [
              "   numbers\n",
              "a      100\n",
              "b      400\n",
              "c      900\n",
              "d     1600"
            ]
          },
          "metadata": {
            "tags": []
          },
          "execution_count": 7
        }
      ]
    },
    {
      "metadata": {
        "id": "jAzXCY1iTI4P",
        "colab_type": "text"
      },
      "cell_type": "markdown",
      "source": [
        "### g) floats라는 이름의 칼럼을 추가하시오. 값은 1.5, 2.5, 3.5, 4.5<br>아래와 같은 결과가 나와야 합니다\n",
        "\n",
        "<br>\n",
        "\n",
        "| numbers | floats\n",
        "----- | ------ | ------\n",
        "a  | 10 | 1.5\n",
        "b  | 20 | 2.5\n",
        "c  | 30 | 3.5\n",
        "d  | 40 | 4.5"
      ]
    },
    {
      "metadata": {
        "id": "5uvUWkxcTI4Q",
        "colab_type": "code",
        "colab": {
          "autoexec": {
            "startup": false,
            "wait_interval": 0
          },
          "base_uri": "https://localhost:8080/",
          "height": 166
        },
        "outputId": "abc33051-dea8-4866-ad36-03c39a05879a",
        "executionInfo": {
          "status": "ok",
          "timestamp": 1531920293731,
          "user_tz": -540,
          "elapsed": 1077,
          "user": {
            "displayName": "Gang min Kim",
            "photoUrl": "https://lh3.googleusercontent.com/a/default-user=s128",
            "userId": "117554242501406132618"
          }
        }
      },
      "cell_type": "code",
      "source": [
        "df = DataFrame([10,20,30,40], index = ['a','b','c','d'], columns = ['numbers'])\n",
        "df['floats'] = [1.5,2.5,3.5,4.5]\n",
        "df"
      ],
      "execution_count": 8,
      "outputs": [
        {
          "output_type": "execute_result",
          "data": {
            "text/html": [
              "<div>\n",
              "<style scoped>\n",
              "    .dataframe tbody tr th:only-of-type {\n",
              "        vertical-align: middle;\n",
              "    }\n",
              "\n",
              "    .dataframe tbody tr th {\n",
              "        vertical-align: top;\n",
              "    }\n",
              "\n",
              "    .dataframe thead th {\n",
              "        text-align: right;\n",
              "    }\n",
              "</style>\n",
              "<table border=\"1\" class=\"dataframe\">\n",
              "  <thead>\n",
              "    <tr style=\"text-align: right;\">\n",
              "      <th></th>\n",
              "      <th>numbers</th>\n",
              "      <th>floats</th>\n",
              "    </tr>\n",
              "  </thead>\n",
              "  <tbody>\n",
              "    <tr>\n",
              "      <th>a</th>\n",
              "      <td>10</td>\n",
              "      <td>1.5</td>\n",
              "    </tr>\n",
              "    <tr>\n",
              "      <th>b</th>\n",
              "      <td>20</td>\n",
              "      <td>2.5</td>\n",
              "    </tr>\n",
              "    <tr>\n",
              "      <th>c</th>\n",
              "      <td>30</td>\n",
              "      <td>3.5</td>\n",
              "    </tr>\n",
              "    <tr>\n",
              "      <th>d</th>\n",
              "      <td>40</td>\n",
              "      <td>4.5</td>\n",
              "    </tr>\n",
              "  </tbody>\n",
              "</table>\n",
              "</div>"
            ],
            "text/plain": [
              "   numbers  floats\n",
              "a       10     1.5\n",
              "b       20     2.5\n",
              "c       30     3.5\n",
              "d       40     4.5"
            ]
          },
          "metadata": {
            "tags": []
          },
          "execution_count": 8
        }
      ]
    }
  ]
}