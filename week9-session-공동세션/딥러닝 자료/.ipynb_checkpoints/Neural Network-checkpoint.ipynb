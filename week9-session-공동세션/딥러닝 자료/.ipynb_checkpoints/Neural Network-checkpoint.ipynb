{
 "cells": [
  {
   "cell_type": "code",
   "execution_count": 1,
   "metadata": {
    "collapsed": true
   },
   "outputs": [],
   "source": [
    "import torch\n",
    "import torch.nn as nn\n",
    "import torch.optim as optim\n",
    "\n",
    "from torch.autograd import Variable\n",
    "from torch.utils.data import DataLoader\n",
    "from torchvision import transforms\n",
    "from torchvision import datasets\n",
    "\n",
    "batch_size = 32\n",
    "learning_rate = 0.01\n",
    "num_epochs = 5\n",
    "\n",
    "# MNIST Dataset Data Loader\n",
    "train_dataset = datasets.MNIST(root='./data', train=True, \n",
    "                        transform=transforms.ToTensor(), download=True)\n",
    "test_dataset = datasets.MNIST(root='./data', train=False, \n",
    "                        transform=transforms.ToTensor())\n",
    "\n",
    "train_loader = DataLoader(train_dataset, batch_size=batch_size, shuffle=True)\n",
    "test_loader = DataLoader(test_dataset, batch_size=batch_size, shuffle=False)"
   ]
  },
  {
   "cell_type": "code",
   "execution_count": 2,
   "metadata": {
    "collapsed": true
   },
   "outputs": [],
   "source": [
    "# Neural Network Modeling\n",
    "class Neuralnetwork(nn.Module):\n",
    "    def __init__(self, num_classes=10):\n",
    "        super(Neuralnetwork, self).__init__()\n",
    "        self.layer1 = nn.Linear(28*28, 100)\n",
    "        self.layer2 = nn.Linear(100, 200)\n",
    "        self.layer3 = nn.Linear(200, num_classes)\n",
    "        \n",
    "    def forward(self, x):\n",
    "        out = x.view(x.size(0), -1)\n",
    "        out = self.layer1(out)\n",
    "        out = self.layer2(out)\n",
    "        out = self.layer3(out)\n",
    "        return out\n",
    "    \n",
    "# Model\n",
    "model = Neuralnetwork()\n",
    "\n",
    "# Loss\n",
    "criterion = nn.CrossEntropyLoss()\n",
    "\n",
    "# Optimizer\n",
    "optimizer = optim.SGD(model.parameters(), lr=learning_rate)"
   ]
  },
  {
   "cell_type": "code",
   "execution_count": 3,
   "metadata": {
    "scrolled": true
   },
   "outputs": [
    {
     "name": "stdout",
     "output_type": "stream",
     "text": [
      "Epoch [1/5], Step [100/1875], Loss: 2.1375\n",
      "Epoch [1/5], Step [200/1875], Loss: 1.8796\n",
      "Epoch [1/5], Step [300/1875], Loss: 1.4564\n",
      "Epoch [1/5], Step [400/1875], Loss: 1.1356\n",
      "Epoch [1/5], Step [500/1875], Loss: 0.8873\n",
      "Epoch [1/5], Step [600/1875], Loss: 0.6185\n",
      "Epoch [1/5], Step [700/1875], Loss: 0.6320\n",
      "Epoch [1/5], Step [800/1875], Loss: 0.6323\n",
      "Epoch [1/5], Step [900/1875], Loss: 0.7419\n",
      "Epoch [1/5], Step [1000/1875], Loss: 0.3226\n",
      "Epoch [1/5], Step [1100/1875], Loss: 0.3852\n",
      "Epoch [1/5], Step [1200/1875], Loss: 0.3426\n",
      "Epoch [1/5], Step [1300/1875], Loss: 0.5406\n",
      "Epoch [1/5], Step [1400/1875], Loss: 0.4974\n",
      "Epoch [1/5], Step [1500/1875], Loss: 0.5869\n",
      "Epoch [1/5], Step [1600/1875], Loss: 0.3297\n",
      "Epoch [1/5], Step [1700/1875], Loss: 0.2665\n",
      "Epoch [1/5], Step [1800/1875], Loss: 0.5817\n",
      "Epoch [2/5], Step [100/1875], Loss: 0.2282\n",
      "Epoch [2/5], Step [200/1875], Loss: 0.2535\n",
      "Epoch [2/5], Step [300/1875], Loss: 0.3962\n",
      "Epoch [2/5], Step [400/1875], Loss: 0.1942\n",
      "Epoch [2/5], Step [500/1875], Loss: 0.2036\n",
      "Epoch [2/5], Step [600/1875], Loss: 0.1781\n",
      "Epoch [2/5], Step [700/1875], Loss: 0.2408\n",
      "Epoch [2/5], Step [800/1875], Loss: 0.5237\n",
      "Epoch [2/5], Step [900/1875], Loss: 0.1766\n",
      "Epoch [2/5], Step [1000/1875], Loss: 0.2114\n",
      "Epoch [2/5], Step [1100/1875], Loss: 0.4776\n",
      "Epoch [2/5], Step [1200/1875], Loss: 0.4240\n",
      "Epoch [2/5], Step [1300/1875], Loss: 0.2630\n",
      "Epoch [2/5], Step [1400/1875], Loss: 0.2264\n",
      "Epoch [2/5], Step [1500/1875], Loss: 0.1643\n",
      "Epoch [2/5], Step [1600/1875], Loss: 0.2301\n",
      "Epoch [2/5], Step [1700/1875], Loss: 0.2844\n",
      "Epoch [2/5], Step [1800/1875], Loss: 0.1501\n",
      "Epoch [3/5], Step [100/1875], Loss: 0.0580\n",
      "Epoch [3/5], Step [200/1875], Loss: 0.4958\n",
      "Epoch [3/5], Step [300/1875], Loss: 0.2002\n",
      "Epoch [3/5], Step [400/1875], Loss: 0.6581\n",
      "Epoch [3/5], Step [500/1875], Loss: 0.1642\n",
      "Epoch [3/5], Step [600/1875], Loss: 0.5070\n",
      "Epoch [3/5], Step [700/1875], Loss: 0.2110\n",
      "Epoch [3/5], Step [800/1875], Loss: 0.1282\n",
      "Epoch [3/5], Step [900/1875], Loss: 0.6611\n",
      "Epoch [3/5], Step [1000/1875], Loss: 0.1488\n",
      "Epoch [3/5], Step [1100/1875], Loss: 0.1772\n",
      "Epoch [3/5], Step [1200/1875], Loss: 0.1955\n",
      "Epoch [3/5], Step [1300/1875], Loss: 0.2075\n",
      "Epoch [3/5], Step [1400/1875], Loss: 0.2510\n",
      "Epoch [3/5], Step [1500/1875], Loss: 0.1696\n",
      "Epoch [3/5], Step [1600/1875], Loss: 0.2431\n",
      "Epoch [3/5], Step [1700/1875], Loss: 0.1336\n",
      "Epoch [3/5], Step [1800/1875], Loss: 0.3813\n",
      "Epoch [4/5], Step [100/1875], Loss: 0.4564\n",
      "Epoch [4/5], Step [200/1875], Loss: 0.3771\n",
      "Epoch [4/5], Step [300/1875], Loss: 0.1979\n",
      "Epoch [4/5], Step [400/1875], Loss: 0.2532\n",
      "Epoch [4/5], Step [500/1875], Loss: 0.3035\n",
      "Epoch [4/5], Step [600/1875], Loss: 0.2225\n",
      "Epoch [4/5], Step [700/1875], Loss: 0.3483\n",
      "Epoch [4/5], Step [800/1875], Loss: 0.1073\n",
      "Epoch [4/5], Step [900/1875], Loss: 0.2852\n",
      "Epoch [4/5], Step [1000/1875], Loss: 0.1757\n",
      "Epoch [4/5], Step [1100/1875], Loss: 0.2902\n",
      "Epoch [4/5], Step [1200/1875], Loss: 0.2101\n",
      "Epoch [4/5], Step [1300/1875], Loss: 0.3449\n",
      "Epoch [4/5], Step [1400/1875], Loss: 0.1268\n",
      "Epoch [4/5], Step [1500/1875], Loss: 0.2844\n",
      "Epoch [4/5], Step [1600/1875], Loss: 0.1311\n",
      "Epoch [4/5], Step [1700/1875], Loss: 0.5976\n",
      "Epoch [4/5], Step [1800/1875], Loss: 0.3147\n",
      "Epoch [5/5], Step [100/1875], Loss: 0.1188\n",
      "Epoch [5/5], Step [200/1875], Loss: 0.3847\n",
      "Epoch [5/5], Step [300/1875], Loss: 0.2758\n",
      "Epoch [5/5], Step [400/1875], Loss: 0.1077\n",
      "Epoch [5/5], Step [500/1875], Loss: 0.1164\n",
      "Epoch [5/5], Step [600/1875], Loss: 0.2564\n",
      "Epoch [5/5], Step [700/1875], Loss: 0.4463\n",
      "Epoch [5/5], Step [800/1875], Loss: 0.0844\n",
      "Epoch [5/5], Step [900/1875], Loss: 0.6003\n",
      "Epoch [5/5], Step [1000/1875], Loss: 0.4687\n",
      "Epoch [5/5], Step [1100/1875], Loss: 0.4465\n",
      "Epoch [5/5], Step [1200/1875], Loss: 0.2447\n",
      "Epoch [5/5], Step [1300/1875], Loss: 0.2353\n",
      "Epoch [5/5], Step [1400/1875], Loss: 0.2074\n",
      "Epoch [5/5], Step [1500/1875], Loss: 0.3708\n",
      "Epoch [5/5], Step [1600/1875], Loss: 0.1067\n",
      "Epoch [5/5], Step [1700/1875], Loss: 0.4274\n",
      "Epoch [5/5], Step [1800/1875], Loss: 0.1667\n"
     ]
    }
   ],
   "source": [
    "# Train the model\n",
    "for epoch in range(num_epochs):\n",
    "    for i, (img, label) in enumerate(train_loader, 1):\n",
    "        img, label = Variable(img), Variable(label)\n",
    "        out = model(img)\n",
    "        loss = criterion(out, label)\n",
    "        \n",
    "         # Backward and optimize\n",
    "        optimizer.zero_grad()\n",
    "        loss.backward()\n",
    "        optimizer.step()\n",
    "        \n",
    "        if (i+1) % 100 == 0:\n",
    "            print ('Epoch [{}/{}], Step [{}/{}], Loss: {:.4f}'.format(epoch+1, num_epochs, i+1, len(train_loader), loss.item()))"
   ]
  },
  {
   "cell_type": "code",
   "execution_count": 4,
   "metadata": {
    "scrolled": true
   },
   "outputs": [
    {
     "name": "stdout",
     "output_type": "stream",
     "text": [
      "Test Accuracy of the model on the 10000 test images: 91.95 %\n"
     ]
    }
   ],
   "source": [
    "# Test the model\n",
    "model.eval()\n",
    "\n",
    "correct = 0\n",
    "total = 0\n",
    "for img, label in test_loader:\n",
    "    out = model(img)\n",
    "    _, predicted = torch.max(out.data, 1)\n",
    "    total += label.size(0)\n",
    "    correct += (predicted == label).sum().item()\n",
    "\n",
    "print('Test Accuracy of the model on the 10000 test images: {} %'.format(100 * correct / total))\n",
    "\n",
    "# Save the model checkpoint\n",
    "torch.save(model.state_dict(), 'model_nn.ckpt')"
   ]
  },
  {
   "cell_type": "code",
   "execution_count": null,
   "metadata": {
    "collapsed": true
   },
   "outputs": [],
   "source": []
  }
 ],
 "metadata": {
  "kernelspec": {
   "display_name": "Python 3",
   "language": "python",
   "name": "python3"
  },
  "language_info": {
   "codemirror_mode": {
    "name": "ipython",
    "version": 3
   },
   "file_extension": ".py",
   "mimetype": "text/x-python",
   "name": "python",
   "nbconvert_exporter": "python",
   "pygments_lexer": "ipython3",
   "version": "3.6.5"
  }
 },
 "nbformat": 4,
 "nbformat_minor": 2
}
