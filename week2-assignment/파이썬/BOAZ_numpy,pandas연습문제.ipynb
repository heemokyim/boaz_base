{
  "nbformat": 4,
  "nbformat_minor": 0,
  "metadata": {
    "colab": {
      "name": "BOAZ  numpy,pandas연습문제.ipynb",
      "version": "0.3.2",
      "views": {},
      "default_view": {},
      "provenance": [
        {
          "file_id": "1nN_t2H78mM-jPNseZrGzGQa2_QxYqKvL",
          "timestamp": 1531919695309
        },
        {
          "file_id": "1Q0ixcXoagy189xAOW0uo7L8UlH34g1Ny",
          "timestamp": 1524384052534
        }
      ],
      "collapsed_sections": [
        "Od3B4RysTI38",
        "eYnGTCxBTI3_",
        "IwISDfsWTI4E"
      ]
    },
    "kernelspec": {
      "display_name": "Python [default]",
      "language": "python",
      "name": "python3"
    }
  },
  "cells": [
    {
      "metadata": {
        "id": "hRcFsIfjmLDZ",
        "colab_type": "text"
      },
      "cell_type": "markdown",
      "source": [
        "## Import libraries (Numpy & Pandas)"
      ]
    },
    {
      "metadata": {
        "id": "2YycK0gCTI34",
        "colab_type": "code",
        "colab": {
          "autoexec": {
            "startup": false,
            "wait_interval": 0
          }
        }
      },
      "cell_type": "code",
      "source": [
        "from pandas import Series, DataFrame\n",
        "import pandas as pd\n",
        "import numpy as np"
      ],
      "execution_count": 0,
      "outputs": []
    },
    {
      "metadata": {
        "id": "Jp84rhv6TI31",
        "colab_type": "text"
      },
      "cell_type": "markdown",
      "source": [
        "## 문제 1. DataFrame 다루기 "
      ]
    },
    {
      "metadata": {
        "id": "aFW538dqTI33",
        "colab_type": "text"
      },
      "cell_type": "markdown",
      "source": [
        "### a) DataFrame으로 위와 같은 자료를 만드시오. 컬럼 이름은 numbers, 로우 네임은 a~d, 값은 10~40\n",
        "\n",
        "   | numbers |\n",
        "----- | ------ \n",
        "a  | 10 \n",
        "b  | 20 \n",
        "c  | 30 \n",
        "d  | 40 "
      ]
    },
    {
      "metadata": {
        "id": "aO5IWrujXvFW",
        "colab_type": "code",
        "colab": {
          "autoexec": {
            "startup": false,
            "wait_interval": 0
          }
        }
      },
      "cell_type": "code",
      "source": [
        ""
      ],
      "execution_count": 0,
      "outputs": []
    },
    {
      "metadata": {
        "id": "Od3B4RysTI38",
        "colab_type": "text"
      },
      "cell_type": "markdown",
      "source": [
        "### b) c 로우의 값을 가져오시오 ( Hint: df.loc[])"
      ]
    },
    {
      "metadata": {
        "id": "eYnGTCxBTI3_",
        "colab_type": "text"
      },
      "cell_type": "markdown",
      "source": [
        "### c) a, d 로우들의 값을 가져오시오."
      ]
    },
    {
      "metadata": {
        "id": "sGuIbhKJTI4C",
        "colab_type": "text"
      },
      "cell_type": "markdown",
      "source": [
        "### d) numbers의 합을 구하시오."
      ]
    },
    {
      "metadata": {
        "id": "SxMcEIWpqyls",
        "colab_type": "text"
      },
      "cell_type": "markdown",
      "source": [
        ""
      ]
    },
    {
      "metadata": {
        "id": "IwISDfsWTI4E",
        "colab_type": "text"
      },
      "cell_type": "markdown",
      "source": [
        "### e) numbers의 값들을 각각 제곱하시오<br>아래와 같은결과가 나와야 합니다 (hint - df[numbers] = ... )\n",
        "<br>\n",
        "\n",
        "  | numbers |\n",
        "----- | ------ \n",
        "a  | 100 \n",
        "b  | 400 \n",
        "c  | 900 \n",
        "d  | 1600 "
      ]
    },
    {
      "metadata": {
        "id": "jAzXCY1iTI4P",
        "colab_type": "text"
      },
      "cell_type": "markdown",
      "source": [
        "### g) floats라는 이름의 칼럼을 추가하시오. 값은 1.5, 2.5, 3.5, 4.5<br>아래와 같은 결과가 나와야 합니다\n",
        "\n",
        "<br>\n",
        "\n",
        "| numbers | floats\n",
        "----- | ------ | ------\n",
        "a  | 10 | 1.5\n",
        "b  | 20 | 2.5\n",
        "c  | 30 | 3.5\n",
        "d  | 40 | 4.5"
      ]
    }
  ]
}