{
 "cells": [
  {
   "cell_type": "code",
   "execution_count": 1,
   "metadata": {},
   "outputs": [],
   "source": [
    "from collections import Counter, defaultdict\n",
    "from functools import partial\n",
    "import math, random"
   ]
  },
  {
   "cell_type": "code",
   "execution_count": 3,
   "metadata": {},
   "outputs": [],
   "source": [
    "# inputs는 (dict 형태의 후보자의 다양한 속성 + T/F로 구분되는 label 값)으로 구성됨\n",
    "\n",
    "inputs = [\n",
    "        ({'level':'Senior','lang':'Java','tweets':'no','phd':'no'},   False),\n",
    "        ({'level':'Senior','lang':'Java','tweets':'no','phd':'yes'},  False),\n",
    "        ({'level':'Mid','lang':'Python','tweets':'no','phd':'no'},     True),\n",
    "        ({'level':'Junior','lang':'Python','tweets':'no','phd':'no'},  True),\n",
    "        ({'level':'Junior','lang':'R','tweets':'yes','phd':'no'},      True),\n",
    "        ({'level':'Junior','lang':'R','tweets':'yes','phd':'yes'},    False),\n",
    "        ({'level':'Mid','lang':'R','tweets':'yes','phd':'yes'},        True),\n",
    "        ({'level':'Senior','lang':'Python','tweets':'no','phd':'no'}, False),\n",
    "        ({'level':'Senior','lang':'R','tweets':'yes','phd':'no'},      True),\n",
    "        ({'level':'Junior','lang':'Python','tweets':'yes','phd':'no'}, True),\n",
    "        ({'level':'Senior','lang':'Python','tweets':'yes','phd':'yes'},True),\n",
    "        ({'level':'Mid','lang':'Python','tweets':'no','phd':'yes'},    True),\n",
    "        ({'level':'Mid','lang':'Java','tweets':'yes','phd':'no'},      True),\n",
    "        ({'level':'Junior','lang':'Python','tweets':'no','phd':'yes'},False)]"
   ]
  },
  {
   "cell_type": "markdown",
   "metadata": {},
   "source": [
    "#### entropy()\n",
    "\n",
    "- 클래스에 속할 확률을 입력하면, 엔트로피를 계라.\n",
    "- / 데이터셋 전체에 대한 엔트로피\n",
    "- class_probabilities : 확률값 데이터 셋\n",
    "- 'if p'에서 p=0 인 경우는 제외됨\n",
    "- if 문은 그 값이 참일 때, 즉 p!=0 일때만"
   ]
  },
  {
   "cell_type": "code",
   "execution_count": 4,
   "metadata": {},
   "outputs": [],
   "source": [
    "def entropy(class_probabilities):\n",
    "    return sum(-p * math.log(p,2) for p in class_probabilities if p)"
   ]
  },
  {
   "cell_type": "markdown",
   "metadata": {},
   "source": [
    "#### class_probabilities(labels)\n",
    "- 엔트로피 공식에서 나오는 p 를 구하고 있음\n",
    "- collections 모듈의 Counter 클래서 :  리스트 내의 요소가 몇 번이나 반복되었는지 카운터를 해야 하는 경우 사용\n",
    "- Counter 는 사전(dict) 클래스의 하위 클래스로, 리스트나 튜플에서 각 데이터가 등장한 횟수를 사전 형식으로 돌려준다."
   ]
  },
  {
   "cell_type": "code",
   "execution_count": 7,
   "metadata": {},
   "outputs": [],
   "source": [
    "def class_probabilities(labels) :\n",
    "    total_count = len(labels)\n",
    "    # len(list) 라는 method d는 [list]에 있는 요소의 수를 반환한다. \n",
    "    \n",
    "    return [count / total_count #엔트로피 공식에서 나오는 p를 구함\n",
    "           for count in Counter(labels).values()]\n",
    "            # values : 레이블 별로 해당 레이블을 가진 데이터 포인트의 갯수를 반환한다"
   ]
  },
  {
   "cell_type": "markdown",
   "metadata": {},
   "source": [
    "#### data_entropy(labeled_data):\n",
    "- 위의 두 함수를 이용하여 입력한 데이터의 엔트로피를 구하는 함수"
   ]
  },
  {
   "cell_type": "code",
   "execution_count": 10,
   "metadata": {},
   "outputs": [],
   "source": [
    "def data_entropy(labeled_data):\n",
    "    labels = [label for _, label in labeleed_data]\n",
    "    probabilities = class_probabilities(labels)\n",
    "    return entorypy(probabilityes) # 데이터셋 전체에 대한 엔트로피 값을 리턴\n",
    "                 "
   ]
  },
  {
   "cell_type": "markdown",
   "metadata": {},
   "source": [
    "#### partition_entropy(subsets)\n",
    "- 파티션 엔트로피를 통해 전체 엔트로피 구하기\n",
    "- data_entropy(subset)은 H(S)를, len(subset)/total_count 는 q를 ( 각 파티션별 차지하는 비율) 을 나타낸다. "
   ]
  },
  {
   "cell_type": "code",
   "execution_count": 11,
   "metadata": {},
   "outputs": [],
   "source": [
    "def partition_entropy(subsets) : \n",
    "    total_ccount = sum(len(subset) for subset in subsets)\n",
    "    \n",
    "    return sum(data_entropy(subset)*len(subset)/total_count for subset in subsets)\n",
    "                "
   ]
  },
  {
   "cell_type": "markdown",
   "metadata": {},
   "source": [
    "### 2. 예제 데이터로 의사결정나무 만들어 보기 "
   ]
  },
  {
   "cell_type": "markdown",
   "metadata": {},
   "source": []
  }
 ],
 "metadata": {
  "kernelspec": {
   "display_name": "Python 3",
   "language": "python",
   "name": "python3"
  },
  "language_info": {
   "codemirror_mode": {
    "name": "ipython",
    "version": 3
   },
   "file_extension": ".py",
   "mimetype": "text/x-python",
   "name": "python",
   "nbconvert_exporter": "python",
   "pygments_lexer": "ipython3",
   "version": "3.6.5"
  }
 },
 "nbformat": 4,
 "nbformat_minor": 2
}
